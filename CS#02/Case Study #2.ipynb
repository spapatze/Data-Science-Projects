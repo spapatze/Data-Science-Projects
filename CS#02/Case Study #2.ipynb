{
 "cells": [
  {
   "cell_type": "markdown",
   "id": "24b244e6",
   "metadata": {},
   "source": [
    "# Case Study #2"
   ]
  },
  {
   "cell_type": "markdown",
   "id": "ad213349",
   "metadata": {},
   "source": [
    "## 1. Case Study description"
   ]
  },
  {
   "cell_type": "markdown",
   "id": "50754600",
   "metadata": {},
   "source": [
    "For each year we need the following information:\n",
    "* Total revenue for the current year\n",
    "* Total Customers Current Year / Total Customers Previous Year\n",
    "* New Customers\n",
    "* New Customer Revenue e.g. new customers not present in previous year only\n",
    "* Existing Customer Revenue Current Year / Existing Customer Revenue Prior Year\n",
    "* Existing Customer Growth. To calculate this, use the Revenue of existing customers for current year –(minus) Revenue of existing customers from the previous year\n",
    "* Revenue lost from attrition\n",
    "* Lost Customers\n",
    "\n",
    "Additionally, generate a few unique plots highlighting some information from the dataset. \n",
    "Are there any interesting observations?\n"
   ]
  },
  {
   "cell_type": "markdown",
   "id": "097a34d3",
   "metadata": {},
   "source": [
    "## 2. Dataset"
   ]
  },
  {
   "cell_type": "markdown",
   "id": "1bd08f62",
   "metadata": {},
   "source": [
    "A csv file with 3 years worth of customer orders. \n",
    "There are 4 columns in the csv dataset: \n",
    "* index, \n",
    "* CUSTOMER_EMAIL(unique identifier as hash), \n",
    "* Net_Revenue, and \n",
    "* Year.\n"
   ]
  },
  {
   "cell_type": "markdown",
   "id": "6f4e2a42",
   "metadata": {},
   "source": [
    "## 3. Analysis"
   ]
  },
  {
   "cell_type": "markdown",
   "id": "8bbfff27",
   "metadata": {},
   "source": [
    "### 3.0 Import libraries"
   ]
  },
  {
   "cell_type": "code",
   "execution_count": 1,
   "id": "d3a0fdcf",
   "metadata": {},
   "outputs": [],
   "source": [
    "import pandas as pd\n",
    "import matplotlib.pyplot as plt\n",
    "import numpy as np\n",
    "import seaborn as sns\n",
    "pd.set_option('display.max_columns', None)\n",
    "pd.set_option('display.max_rows', None)"
   ]
  },
  {
   "cell_type": "code",
   "execution_count": 2,
   "id": "34af69f1",
   "metadata": {},
   "outputs": [],
   "source": [
    "filename = 'casestudy.csv'\n",
    "df = pd.read_csv(filename, sep=',')"
   ]
  },
  {
   "cell_type": "code",
   "execution_count": 3,
   "id": "f6f66eb4",
   "metadata": {},
   "outputs": [
    {
     "data": {
      "text/html": [
       "<div>\n",
       "<style scoped>\n",
       "    .dataframe tbody tr th:only-of-type {\n",
       "        vertical-align: middle;\n",
       "    }\n",
       "\n",
       "    .dataframe tbody tr th {\n",
       "        vertical-align: top;\n",
       "    }\n",
       "\n",
       "    .dataframe thead th {\n",
       "        text-align: right;\n",
       "    }\n",
       "</style>\n",
       "<table border=\"1\" class=\"dataframe\">\n",
       "  <thead>\n",
       "    <tr style=\"text-align: right;\">\n",
       "      <th></th>\n",
       "      <th>Unnamed: 0</th>\n",
       "      <th>customer_email</th>\n",
       "      <th>net_revenue</th>\n",
       "      <th>year</th>\n",
       "    </tr>\n",
       "  </thead>\n",
       "  <tbody>\n",
       "    <tr>\n",
       "      <th>0</th>\n",
       "      <td>0</td>\n",
       "      <td>nhknapwsbx@gmail.com</td>\n",
       "      <td>249.92</td>\n",
       "      <td>2015</td>\n",
       "    </tr>\n",
       "    <tr>\n",
       "      <th>1</th>\n",
       "      <td>1</td>\n",
       "      <td>joiuzbvcpn@gmail.com</td>\n",
       "      <td>87.61</td>\n",
       "      <td>2015</td>\n",
       "    </tr>\n",
       "    <tr>\n",
       "      <th>2</th>\n",
       "      <td>2</td>\n",
       "      <td>ukkjctepxt@gmail.com</td>\n",
       "      <td>168.38</td>\n",
       "      <td>2015</td>\n",
       "    </tr>\n",
       "    <tr>\n",
       "      <th>3</th>\n",
       "      <td>3</td>\n",
       "      <td>gykatilzrt@gmail.com</td>\n",
       "      <td>62.40</td>\n",
       "      <td>2015</td>\n",
       "    </tr>\n",
       "    <tr>\n",
       "      <th>4</th>\n",
       "      <td>4</td>\n",
       "      <td>mmsgsrtxah@gmail.com</td>\n",
       "      <td>43.08</td>\n",
       "      <td>2015</td>\n",
       "    </tr>\n",
       "  </tbody>\n",
       "</table>\n",
       "</div>"
      ],
      "text/plain": [
       "   Unnamed: 0         customer_email  net_revenue  year\n",
       "0           0   nhknapwsbx@gmail.com       249.92  2015\n",
       "1           1   joiuzbvcpn@gmail.com        87.61  2015\n",
       "2           2   ukkjctepxt@gmail.com       168.38  2015\n",
       "3           3   gykatilzrt@gmail.com        62.40  2015\n",
       "4           4   mmsgsrtxah@gmail.com        43.08  2015"
      ]
     },
     "execution_count": 3,
     "metadata": {},
     "output_type": "execute_result"
    }
   ],
   "source": [
    "df.head()"
   ]
  },
  {
   "cell_type": "code",
   "execution_count": 4,
   "id": "0e8c10c0",
   "metadata": {},
   "outputs": [
    {
     "data": {
      "text/plain": [
       "(685927, 4)"
      ]
     },
     "execution_count": 4,
     "metadata": {},
     "output_type": "execute_result"
    }
   ],
   "source": [
    "df.shape"
   ]
  },
  {
   "cell_type": "markdown",
   "id": "9c674150",
   "metadata": {},
   "source": [
    "### 3.1 Total revenue for the current/previous year"
   ]
  },
  {
   "cell_type": "code",
   "execution_count": 5,
   "id": "4f893454",
   "metadata": {},
   "outputs": [],
   "source": [
    "all_years = df['year'].unique()"
   ]
  },
  {
   "cell_type": "code",
   "execution_count": 6,
   "id": "201efcf3",
   "metadata": {},
   "outputs": [
    {
     "name": "stdout",
     "output_type": "stream",
     "text": [
      "Current year is 2015.\n",
      "Current net_revenue is 29036749.19.\n",
      "\n",
      "Current year is 2016.\n",
      "Current net_revenue is 25730943.59.\n",
      "\n",
      "Current year is 2017.\n",
      "Current net_revenue is 31417495.03.\n",
      "\n"
     ]
    }
   ],
   "source": [
    "total_net_revenue = np.empty([len(all_years)], dtype=np.float64)\n",
    "for index, current_year in enumerate(all_years):\n",
    "    total_net_revenue[index] = df['net_revenue'][df['year']==current_year].sum()\n",
    "    print(f\"Current year is {current_year}.\")\n",
    "    print(f\"Current net_revenue is {total_net_revenue[index]:.2f}.\")\n",
    "    print()"
   ]
  },
  {
   "cell_type": "markdown",
   "id": "56f17782",
   "metadata": {},
   "source": [
    "### 3.2 Total Customers"
   ]
  },
  {
   "cell_type": "code",
   "execution_count": 7,
   "id": "e7473b33",
   "metadata": {},
   "outputs": [
    {
     "name": "stdout",
     "output_type": "stream",
     "text": [
      "In current year=2015, there are 231294 customers.\n",
      "In current year=2016, there are 204646 customers.\n",
      "In current year=2017, there are 249987 customers.\n",
      "Total customers: 685927. Total revenue: 86185187.81\n"
     ]
    }
   ],
   "source": [
    "customers_per_year = {}\n",
    "for index, current_year in enumerate(all_years):\n",
    "    customers_per_year[current_year] = set(df['customer_email'][df['year']==current_year])\n",
    "    \n",
    "total = 0\n",
    "for index, (key, value) in enumerate(customers_per_year.items()):\n",
    "    total += len(value)\n",
    "    print(f\"In current year={key}, there are {len(value)} customers.\")\n",
    "print(f\"Total customers: {total}. Total revenue: {total_net_revenue.sum()}\")"
   ]
  },
  {
   "cell_type": "markdown",
   "id": "6054bee3",
   "metadata": {},
   "source": [
    "### 3.3 New Customers / New Customer Revenue"
   ]
  },
  {
   "cell_type": "code",
   "execution_count": 8,
   "id": "3e548c91",
   "metadata": {},
   "outputs": [],
   "source": [
    "new_customer_net_revenue = np.empty([len(all_years)], dtype=np.float64)\n",
    "\n",
    "new_customers_per_year = {}\n",
    "for index, current_year in enumerate(all_years):\n",
    "    if current_year-1 != all_years[index-1]:\n",
    "        new_customers_per_year[current_year] = list(customers_per_year[current_year])\n",
    "    else:\n",
    "        new_customers_per_year[current_year] = list(customers_per_year[current_year]-customers_per_year[current_year-1])\n",
    "        \n",
    "    new_customer_net_revenue[index] = df['net_revenue'][df['year']==current_year][df['customer_email'].isin(new_customers_per_year[current_year])].sum()"
   ]
  },
  {
   "cell_type": "code",
   "execution_count": 9,
   "id": "2e2de380",
   "metadata": {},
   "outputs": [
    {
     "name": "stdout",
     "output_type": "stream",
     "text": [
      "In current year=2015, there were 231294 new customers. Current new customer revenue: 29036749.19\n",
      "In current year=2016, there were 145062 new customers. Current new customer revenue: 18245491.01\n",
      "In current year=2017, there were 229028 new customers. Current new customer revenue: 28776235.04\n",
      "Total new customers: 605384. Total new revenue: 76058475.24\n"
     ]
    }
   ],
   "source": [
    "total = 0\n",
    "for index, (key, value) in enumerate(new_customers_per_year.items()):\n",
    "    total += len(value)\n",
    "    print(f\"In current year={key}, there were {len(value)} new customers. Current new customer revenue: {new_customer_net_revenue[index]:.2f}\")\n",
    "print(f\"Total new customers: {total}. Total new revenue: {new_customer_net_revenue.sum()}\")"
   ]
  },
  {
   "cell_type": "markdown",
   "id": "e0f7196d",
   "metadata": {},
   "source": [
    "### 3.3 Existing Customer Revenue Current/Prior Year"
   ]
  },
  {
   "cell_type": "code",
   "execution_count": 10,
   "id": "bed0f139",
   "metadata": {},
   "outputs": [
    {
     "name": "stdout",
     "output_type": "stream",
     "text": [
      "Current year is 2015.\n",
      "Current existing customer net revenue is 0.00.\n",
      "\n",
      "Current year is 2016.\n",
      "Current existing customer net revenue is 7485452.58.\n",
      "\n",
      "Current year is 2017.\n",
      "Current existing customer net revenue is 2641259.99.\n",
      "\n"
     ]
    }
   ],
   "source": [
    "existing_net_revenue = total_net_revenue - new_customer_net_revenue\n",
    "for index, current_year in enumerate(all_years):\n",
    "    print(f\"Current year is {current_year}.\")\n",
    "    print(f\"Current existing customer net revenue is {existing_net_revenue[index]:.2f}.\")\n",
    "    print()"
   ]
  },
  {
   "cell_type": "markdown",
   "id": "3f9a3704",
   "metadata": {},
   "source": [
    "### 3.4 Existing Customer Growth"
   ]
  },
  {
   "cell_type": "markdown",
   "id": "93b28d74",
   "metadata": {},
   "source": [
    "Existing Customer Growth.  \n",
    "To calculate this, use the Revenue of existing customers for current year –(minus) Revenue of existing customers from the previous year"
   ]
  },
  {
   "cell_type": "code",
   "execution_count": 11,
   "id": "6d2dcc0e",
   "metadata": {},
   "outputs": [],
   "source": [
    "existing_customer_growth = np.empty([len(all_years)], dtype=np.float64)\n",
    "\n",
    "for index, current_year in enumerate(all_years):\n",
    "    if current_year-1 != all_years[index-1]:\n",
    "        existing_customer_growth[index] = 0.0\n",
    "    else:\n",
    "        existing_customer_growth[index] = existing_net_revenue[index] - existing_net_revenue[index-1]"
   ]
  },
  {
   "cell_type": "code",
   "execution_count": 12,
   "id": "caa166ee",
   "metadata": {},
   "outputs": [
    {
     "name": "stdout",
     "output_type": "stream",
     "text": [
      "Current year is 2015.\n",
      "Current customer growth is 0.00.\n",
      "\n",
      "Current year is 2016.\n",
      "Current customer growth is 7485452.58.\n",
      "\n",
      "Current year is 2017.\n",
      "Current customer growth is -4844192.59.\n",
      "\n"
     ]
    }
   ],
   "source": [
    "for index, current_year in enumerate(all_years):\n",
    "    print(f\"Current year is {current_year}.\")\n",
    "    print(f\"Current customer growth is {existing_customer_growth[index]:.2f}.\")\n",
    "    print()"
   ]
  },
  {
   "cell_type": "markdown",
   "id": "869b82cd",
   "metadata": {},
   "source": [
    "### 3.5 Lost Customers"
   ]
  },
  {
   "cell_type": "code",
   "execution_count": 13,
   "id": "de1fee57",
   "metadata": {},
   "outputs": [
    {
     "name": "stdout",
     "output_type": "stream",
     "text": [
      "In current year=2015, there are 0 customers.\n",
      "In current year=2016, there are 171710 customers.\n",
      "In current year=2017, there are 183687 customers.\n"
     ]
    }
   ],
   "source": [
    "lost_customers = {}\n",
    "for index, current_year in enumerate(all_years):\n",
    "    if current_year-1 != all_years[index-1]:\n",
    "        lost_customers[current_year] = []\n",
    "    else:\n",
    "        lost_customers[current_year] = list(customers_per_year[current_year-1] - customers_per_year[current_year])\n",
    "\n",
    "total = 0\n",
    "for index, (key, value) in enumerate(lost_customers.items()):\n",
    "    total += len(value)\n",
    "    print(f\"In current year={key}, there are {len(value)} customers.\")"
   ]
  },
  {
   "cell_type": "markdown",
   "id": "8e134acd",
   "metadata": {},
   "source": [
    "### 3.6 Revenue lost from attrition"
   ]
  },
  {
   "cell_type": "code",
   "execution_count": 14,
   "id": "af31ef66",
   "metadata": {},
   "outputs": [],
   "source": [
    "revenue_lost_attrition = np.empty([len(all_years)], dtype=np.float64)\n",
    "for index, current_year in enumerate(all_years):\n",
    "    if current_year-1 != all_years[index-1]:\n",
    "        revenue_lost_attrition[index] = 0.0\n",
    "    else:\n",
    "        revenue_lost_attrition[index] = df['net_revenue'][df['year']==current_year-1][df['customer_email'].isin(lost_customers[current_year])].sum()"
   ]
  },
  {
   "cell_type": "code",
   "execution_count": 15,
   "id": "f3bf1b28",
   "metadata": {},
   "outputs": [
    {
     "name": "stdout",
     "output_type": "stream",
     "text": [
      "Current year is 2015.\n",
      "Current revenue lost from attrition is 0.00.\n",
      "\n",
      "Current year is 2016.\n",
      "Current revenue lost from attrition is 21571632.07.\n",
      "\n",
      "Current year is 2017.\n",
      "Current revenue lost from attrition is 23110294.94.\n",
      "\n"
     ]
    }
   ],
   "source": [
    "for index, current_year in enumerate(all_years):\n",
    "    print(f\"Current year is {current_year}.\")\n",
    "    print(f\"Current revenue lost from attrition is {revenue_lost_attrition[index]:.2f}.\")\n",
    "    print()"
   ]
  },
  {
   "cell_type": "markdown",
   "id": "14a89441",
   "metadata": {},
   "source": [
    "## 4. Observations"
   ]
  },
  {
   "cell_type": "code",
   "execution_count": 16,
   "id": "b5237f75",
   "metadata": {},
   "outputs": [
    {
     "data": {
      "text/html": [
       "<div>\n",
       "<style scoped>\n",
       "    .dataframe tbody tr th:only-of-type {\n",
       "        vertical-align: middle;\n",
       "    }\n",
       "\n",
       "    .dataframe tbody tr th {\n",
       "        vertical-align: top;\n",
       "    }\n",
       "\n",
       "    .dataframe thead th {\n",
       "        text-align: right;\n",
       "    }\n",
       "</style>\n",
       "<table border=\"1\" class=\"dataframe\">\n",
       "  <thead>\n",
       "    <tr style=\"text-align: right;\">\n",
       "      <th></th>\n",
       "      <th>Unnamed: 0</th>\n",
       "      <th>customer_email</th>\n",
       "      <th>net_revenue</th>\n",
       "      <th>year</th>\n",
       "    </tr>\n",
       "  </thead>\n",
       "  <tbody>\n",
       "    <tr>\n",
       "      <th>0</th>\n",
       "      <td>0</td>\n",
       "      <td>nhknapwsbx@gmail.com</td>\n",
       "      <td>249.92</td>\n",
       "      <td>2015</td>\n",
       "    </tr>\n",
       "    <tr>\n",
       "      <th>1</th>\n",
       "      <td>1</td>\n",
       "      <td>joiuzbvcpn@gmail.com</td>\n",
       "      <td>87.61</td>\n",
       "      <td>2015</td>\n",
       "    </tr>\n",
       "    <tr>\n",
       "      <th>2</th>\n",
       "      <td>2</td>\n",
       "      <td>ukkjctepxt@gmail.com</td>\n",
       "      <td>168.38</td>\n",
       "      <td>2015</td>\n",
       "    </tr>\n",
       "    <tr>\n",
       "      <th>3</th>\n",
       "      <td>3</td>\n",
       "      <td>gykatilzrt@gmail.com</td>\n",
       "      <td>62.40</td>\n",
       "      <td>2015</td>\n",
       "    </tr>\n",
       "    <tr>\n",
       "      <th>4</th>\n",
       "      <td>4</td>\n",
       "      <td>mmsgsrtxah@gmail.com</td>\n",
       "      <td>43.08</td>\n",
       "      <td>2015</td>\n",
       "    </tr>\n",
       "    <tr>\n",
       "      <th>5</th>\n",
       "      <td>5</td>\n",
       "      <td>mobvusnzfr@gmail.com</td>\n",
       "      <td>39.44</td>\n",
       "      <td>2015</td>\n",
       "    </tr>\n",
       "    <tr>\n",
       "      <th>6</th>\n",
       "      <td>6</td>\n",
       "      <td>kxwkqvacsv@gmail.com</td>\n",
       "      <td>171.46</td>\n",
       "      <td>2015</td>\n",
       "    </tr>\n",
       "    <tr>\n",
       "      <th>7</th>\n",
       "      <td>7</td>\n",
       "      <td>iqmnugdcjs@gmail.com</td>\n",
       "      <td>111.99</td>\n",
       "      <td>2015</td>\n",
       "    </tr>\n",
       "    <tr>\n",
       "      <th>8</th>\n",
       "      <td>8</td>\n",
       "      <td>baiikostmd@gmail.com</td>\n",
       "      <td>170.70</td>\n",
       "      <td>2015</td>\n",
       "    </tr>\n",
       "    <tr>\n",
       "      <th>9</th>\n",
       "      <td>9</td>\n",
       "      <td>lfeafnigbu@gmail.com</td>\n",
       "      <td>54.99</td>\n",
       "      <td>2015</td>\n",
       "    </tr>\n",
       "  </tbody>\n",
       "</table>\n",
       "</div>"
      ],
      "text/plain": [
       "   Unnamed: 0         customer_email  net_revenue  year\n",
       "0           0   nhknapwsbx@gmail.com       249.92  2015\n",
       "1           1   joiuzbvcpn@gmail.com        87.61  2015\n",
       "2           2   ukkjctepxt@gmail.com       168.38  2015\n",
       "3           3   gykatilzrt@gmail.com        62.40  2015\n",
       "4           4   mmsgsrtxah@gmail.com        43.08  2015\n",
       "5           5   mobvusnzfr@gmail.com        39.44  2015\n",
       "6           6   kxwkqvacsv@gmail.com       171.46  2015\n",
       "7           7   iqmnugdcjs@gmail.com       111.99  2015\n",
       "8           8   baiikostmd@gmail.com       170.70  2015\n",
       "9           9   lfeafnigbu@gmail.com        54.99  2015"
      ]
     },
     "execution_count": 16,
     "metadata": {},
     "output_type": "execute_result"
    }
   ],
   "source": [
    "df.head(n=10)"
   ]
  },
  {
   "cell_type": "markdown",
   "id": "e7de6641",
   "metadata": {},
   "source": [
    "* Limited years\n",
    "* The higher revenue comes from new customers. Not for the existing customers.\n",
    "* The customers doesn't buy for muliple years.\n",
    "* The company must find a way to attract new customers.\n",
    "* In the last year, the revenue from new customers is higher then the revenue lost form attrition."
   ]
  },
  {
   "cell_type": "code",
   "execution_count": 18,
   "id": "b4a98037",
   "metadata": {},
   "outputs": [
    {
     "data": {
      "text/plain": [
       "125.64835495613961"
      ]
     },
     "execution_count": 18,
     "metadata": {},
     "output_type": "execute_result"
    }
   ],
   "source": [
    "df.groupby(['customer_email', 'net_revenue'])['net_revenue'].transform('sum').mean()"
   ]
  },
  {
   "cell_type": "code",
   "execution_count": 19,
   "id": "cd5a52ea",
   "metadata": {},
   "outputs": [
    {
     "data": {
      "text/plain": [
       "125.6477552421759"
      ]
     },
     "execution_count": 19,
     "metadata": {},
     "output_type": "execute_result"
    }
   ],
   "source": [
    "df.groupby(['customer_email', 'net_revenue','year'])['net_revenue'].transform('sum').mean()"
   ]
  },
  {
   "cell_type": "code",
   "execution_count": 20,
   "id": "653dcab2",
   "metadata": {},
   "outputs": [
    {
     "data": {
      "text/plain": [
       "685927"
      ]
     },
     "execution_count": 20,
     "metadata": {},
     "output_type": "execute_result"
    }
   ],
   "source": [
    "df.groupby(['customer_email', 'year'])['year'].transform('count').sum()"
   ]
  },
  {
   "cell_type": "code",
   "execution_count": 21,
   "id": "b6f4bf2e",
   "metadata": {},
   "outputs": [
    {
     "data": {
      "image/png": "[encoded data removed]",
      "text/plain": [
       "<Figure size 432x288 with 1 Axes>"
      ]
     },
     "metadata": {
      "needs_background": "light"
     },
     "output_type": "display_data"
    }
   ],
   "source": [
    "plt.plot(all_years, total_net_revenue, label='Total net revenue')\n",
    "plt.plot(all_years, new_customer_net_revenue, label='New customer net revenue')\n",
    "plt.plot(all_years, existing_net_revenue, label='Existing net revenue')\n",
    "plt.plot(all_years, -1*revenue_lost_attrition, label='Lost net revenue')\n",
    "plt.xticks(all_years)\n",
    "plt.legend(loc='lower left')\n",
    "plt.show()"
   ]
  },
  {
   "cell_type": "code",
   "execution_count": 22,
   "id": "3ad9d55a",
   "metadata": {},
   "outputs": [
    {
     "data": {
      "image/png": "[encoded data removed]",
      "text/plain": [
       "<Figure size 432x288 with 1 Axes>"
      ]
     },
     "metadata": {
      "needs_background": "light"
     },
     "output_type": "display_data"
    }
   ],
   "source": [
    "total_lost = []\n",
    "total_ll = []\n",
    "total_new = []\n",
    "for index, (key, value) in enumerate(lost_customers.items()):\n",
    "    total_lost.append(len(value))\n",
    "    total_new.append(len(new_customers_per_year[key]))\n",
    "    total_ll.append(len(customers_per_year[key]))\n",
    "    \n",
    "plt.plot(all_years, total_ll, label='Total Customers')\n",
    "plt.plot(all_years, total_new, label='New customers')\n",
    "plt.plot(all_years, total_lost, label='Lost Customers')\n",
    "plt.xticks(all_years)\n",
    "plt.legend(loc='lower right')\n",
    "plt.show()"
   ]
  },
  {
   "cell_type": "code",
   "execution_count": 23,
   "id": "5710e668",
   "metadata": {},
   "outputs": [
    {
     "data": {
      "image/png": "[encoded data removed]",
      "text/plain": [
       "<Figure size 432x288 with 1 Axes>"
      ]
     },
     "metadata": {
      "needs_background": "light"
     },
     "output_type": "display_data"
    }
   ],
   "source": [
    "plt.plot(all_years, existing_customer_growth, label='Lost net revenue')\n",
    "plt.xticks(all_years)\n",
    "plt.legend(loc='lower left')\n",
    "plt.show()"
   ]
  },
  {
   "cell_type": "code",
   "execution_count": null,
   "id": "acdcaab7",
   "metadata": {},
   "outputs": [],
   "source": []
  }
 ],
 "metadata": {
  "kernelspec": {
   "display_name": "Python 3 (ipykernel)",
   "language": "python",
   "name": "python3"
  },
  "language_info": {
   "codemirror_mode": {
    "name": "ipython",
    "version": 3
   },
   "file_extension": ".py",
   "mimetype": "text/x-python",
   "name": "python",
   "nbconvert_exporter": "python",
   "pygments_lexer": "ipython3",
   "version": "3.7.16"
  }
 },
 "nbformat": 4,
 "nbformat_minor": 5
}
